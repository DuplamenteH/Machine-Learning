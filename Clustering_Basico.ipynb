{
  "nbformat": 4,
  "nbformat_minor": 0,
  "metadata": {
    "colab": {
      "name": "Clustering Basico.ipynb",
      "private_outputs": true,
      "provenance": [],
      "authorship_tag": "ABX9TyNiAkZDopOV28hhd//vM9NB",
      "include_colab_link": true
    },
    "kernelspec": {
      "name": "python3",
      "display_name": "Python 3"
    }
  },
  "cells": [
    {
      "cell_type": "markdown",
      "metadata": {
        "id": "view-in-github",
        "colab_type": "text"
      },
      "source": [
        "<a href=\"https://colab.research.google.com/github/DuplamenteH/Machine-Learning/blob/master/Clustering_Basico.ipynb\" target=\"_parent\"><img src=\"https://colab.research.google.com/assets/colab-badge.svg\" alt=\"Open In Colab\"/></a>"
      ]
    },
    {
      "cell_type": "markdown",
      "metadata": {
        "id": "EXXGm-dhF0s4"
      },
      "source": [
        " # *Estudo de alguns algoritmos de clustering ex: K-means, DBSCAN, mean shift*"
      ]
    },
    {
      "cell_type": "markdown",
      "metadata": {
        "id": "UnVfnkCmGJ8N"
      },
      "source": [
        "# Aula 1"
      ]
    },
    {
      "cell_type": "markdown",
      "metadata": {
        "id": "muYGsvlXGZJH"
      },
      "source": [
        "instalação"
      ]
    },
    {
      "cell_type": "code",
      "metadata": {
        "id": "CPPX4UYvGYBO"
      },
      "source": [
        "pip install plotly==4.1.1\r\n"
      ],
      "execution_count": null,
      "outputs": []
    },
    {
      "cell_type": "code",
      "metadata": {
        "id": "y7luYdFXLzmN"
      },
      "source": [
        "pip install biokit"
      ],
      "execution_count": null,
      "outputs": []
    },
    {
      "cell_type": "markdown",
      "metadata": {
        "id": "iLUvvt13GNFf"
      },
      "source": [
        "### Analise dos dados e importações de libs."
      ]
    },
    {
      "cell_type": "markdown",
      "metadata": {
        "id": "0gHEkKetGs0c"
      },
      "source": [
        "importações"
      ]
    },
    {
      "cell_type": "code",
      "metadata": {
        "id": "1jVUx3e6FvoZ"
      },
      "source": [
        "import plotly.graph_objects as go\r\n",
        "import pandas as pd\r\n",
        "import numpy as np\r\n",
        "from biokit.viz import corrplot\r\n",
        "import matplotlib.pyplot as plt\r\n",
        "\r\n"
      ],
      "execution_count": null,
      "outputs": []
    },
    {
      "cell_type": "code",
      "metadata": {
        "id": "Xna2Z1aVG9Vg"
      },
      "source": [
        "path_arq = 'https://gist.githubusercontent.com/tijptjik/9408623/raw/b237fa5848349a14a14e5d4107dc7897c21951f5/wine.csv'"
      ],
      "execution_count": null,
      "outputs": []
    },
    {
      "cell_type": "code",
      "metadata": {
        "id": "l3Up3PQPHhHQ"
      },
      "source": [
        "df = pd.read_csv(path_arq, sep=',')"
      ],
      "execution_count": null,
      "outputs": []
    },
    {
      "cell_type": "code",
      "metadata": {
        "id": "jveQ4DD6Hm_a"
      },
      "source": [
        "print(\"Dimensões de Dataset {}, {}\".format(df.shape[0], df.shape[1]))\r\n",
        "df.head(10)"
      ],
      "execution_count": null,
      "outputs": []
    },
    {
      "cell_type": "markdown",
      "metadata": {
        "id": "5UQRBjGmIKuj"
      },
      "source": [
        "renomeando as features"
      ]
    },
    {
      "cell_type": "code",
      "metadata": {
        "id": "iNcR3lMBH02x"
      },
      "source": [
        "colunas = {\r\n",
        "    'Alcohol':'Alcool',\r\n",
        "    'Ash' : 'PO',\r\n",
        "    'Acl':'Alcalinidade_po',\r\n",
        "    'Mg' : 'Magnesio',\r\n",
        "    'Color.int' : 'Intensidade_cor'\r\n",
        "}\r\n",
        "df = df.rename(columns=colunas)\r\n",
        "df.head()"
      ],
      "execution_count": null,
      "outputs": []
    },
    {
      "cell_type": "code",
      "metadata": {
        "id": "2DBmTwmrJAwQ"
      },
      "source": [
        "df.describe()"
      ],
      "execution_count": null,
      "outputs": []
    },
    {
      "cell_type": "markdown",
      "metadata": {
        "id": "lY7fZcU6Jj1i"
      },
      "source": [
        "### Insights:"
      ]
    },
    {
      "cell_type": "markdown",
      "metadata": {
        "id": "8eze5jwHJqsW"
      },
      "source": [
        "* Vemos que a base de dados não possui dados faltantes.\r\n",
        "* Média(e STD) bem variada ao longo do DF.-> Processo de adquação\r\n",
        "* Variação bem alta do proline."
      ]
    },
    {
      "cell_type": "markdown",
      "metadata": {
        "id": "U4hBPtoXLns5"
      },
      "source": [
        "### vendo as relações"
      ]
    },
    {
      "cell_type": "code",
      "metadata": {
        "id": "kdRAd7h7LrWJ"
      },
      "source": [
        "matriz_corr = df.corr()"
      ],
      "execution_count": null,
      "outputs": []
    },
    {
      "cell_type": "code",
      "metadata": {
        "id": "ysx8r4xeLxuJ"
      },
      "source": [
        "corr_graf = corrplot.Corrplot(matriz_corr)\r\n",
        "corr_graf.plot(upper = 'ellipse', fontsize = 'x-large')\r\n",
        "fig = plt.gcf()\r\n",
        "fig.set_size_inches(14,14)\r\n",
        "fig.show()"
      ],
      "execution_count": null,
      "outputs": []
    },
    {
      "cell_type": "code",
      "metadata": {
        "id": "V-MF3A68MfoT"
      },
      "source": [
        ""
      ],
      "execution_count": null,
      "outputs": []
    }
  ]
}