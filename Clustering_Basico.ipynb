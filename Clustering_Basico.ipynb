{
  "nbformat": 4,
  "nbformat_minor": 0,
  "metadata": {
    "colab": {
      "name": "Clustering Basico.ipynb",
      "private_outputs": true,
      "provenance": [],
      "collapsed_sections": [
        "UnVfnkCmGJ8N",
        "uIiOHqC2opPd",
        "OHrHbcX5oxB3",
        "QWsS6nUfD7PU",
        "44l7IrFhBLhR",
        "2c4d_QqJK4pd"
      ],
      "authorship_tag": "ABX9TyOKW95ltUOtlRd0Jp+VdDc6",
      "include_colab_link": true
    },
    "kernelspec": {
      "name": "python3",
      "display_name": "Python 3"
    }
  },
  "cells": [
    {
      "cell_type": "markdown",
      "metadata": {
        "id": "view-in-github",
        "colab_type": "text"
      },
      "source": [
        "<a href=\"https://colab.research.google.com/github/DuplamenteH/Machine-Learning/blob/master/Clustering_Basico.ipynb\" target=\"_parent\"><img src=\"https://colab.research.google.com/assets/colab-badge.svg\" alt=\"Open In Colab\"/></a>"
      ]
    },
    {
      "cell_type": "markdown",
      "metadata": {
        "id": "EXXGm-dhF0s4"
      },
      "source": [
        " # *Estudo de alguns algoritmos de clustering ex: K-means, DBSCAN, mean shift*"
      ]
    },
    {
      "cell_type": "markdown",
      "metadata": {
        "id": "UnVfnkCmGJ8N"
      },
      "source": [
        "# Aula 1"
      ]
    },
    {
      "cell_type": "markdown",
      "metadata": {
        "id": "muYGsvlXGZJH"
      },
      "source": [
        "### instalação"
      ]
    },
    {
      "cell_type": "code",
      "metadata": {
        "id": "CPPX4UYvGYBO"
      },
      "source": [
        "pip install plotly==4.1.1\r\n"
      ],
      "execution_count": null,
      "outputs": []
    },
    {
      "cell_type": "code",
      "metadata": {
        "id": "y7luYdFXLzmN"
      },
      "source": [
        "pip install biokit"
      ],
      "execution_count": null,
      "outputs": []
    },
    {
      "cell_type": "markdown",
      "metadata": {
        "id": "iLUvvt13GNFf"
      },
      "source": [
        "### Analise dos dados e importações de libs."
      ]
    },
    {
      "cell_type": "markdown",
      "metadata": {
        "id": "0gHEkKetGs0c"
      },
      "source": [
        "importações"
      ]
    },
    {
      "cell_type": "code",
      "metadata": {
        "id": "1jVUx3e6FvoZ"
      },
      "source": [
        "import plotly.graph_objects as go\r\n",
        "import pandas as pd\r\n",
        "import numpy as np\r\n",
        "from biokit.viz import corrplot\r\n",
        "import matplotlib.pyplot as plt\r\n",
        "\r\n"
      ],
      "execution_count": null,
      "outputs": []
    },
    {
      "cell_type": "code",
      "metadata": {
        "id": "Xna2Z1aVG9Vg"
      },
      "source": [
        "path_arq = 'https://gist.githubusercontent.com/tijptjik/9408623/raw/b237fa5848349a14a14e5d4107dc7897c21951f5/wine.csv'"
      ],
      "execution_count": null,
      "outputs": []
    },
    {
      "cell_type": "code",
      "metadata": {
        "id": "l3Up3PQPHhHQ"
      },
      "source": [
        "df = pd.read_csv(path_arq, sep=',')"
      ],
      "execution_count": null,
      "outputs": []
    },
    {
      "cell_type": "code",
      "metadata": {
        "id": "jveQ4DD6Hm_a"
      },
      "source": [
        "print(\"Dimensões de Dataset {}, {}\".format(df.shape[0], df.shape[1]))\r\n",
        "df.head(10)"
      ],
      "execution_count": null,
      "outputs": []
    },
    {
      "cell_type": "markdown",
      "metadata": {
        "id": "5UQRBjGmIKuj"
      },
      "source": [
        "renomeando as features"
      ]
    },
    {
      "cell_type": "code",
      "metadata": {
        "id": "iNcR3lMBH02x"
      },
      "source": [
        "colunas = {\r\n",
        "    'Alcohol':'Alcool',\r\n",
        "    'Ash' : 'PO',\r\n",
        "    'Acl':'Alcalinidade_po',\r\n",
        "    'Mg' : 'Magnesio',\r\n",
        "    'Color.int' : 'Intensidade_cor'\r\n",
        "}\r\n",
        "df = df.rename(columns=colunas)\r\n",
        "df.head()"
      ],
      "execution_count": null,
      "outputs": []
    },
    {
      "cell_type": "code",
      "metadata": {
        "id": "2DBmTwmrJAwQ"
      },
      "source": [
        "df.describe()"
      ],
      "execution_count": null,
      "outputs": []
    },
    {
      "cell_type": "markdown",
      "metadata": {
        "id": "lY7fZcU6Jj1i"
      },
      "source": [
        "### Insights:"
      ]
    },
    {
      "cell_type": "markdown",
      "metadata": {
        "id": "8eze5jwHJqsW"
      },
      "source": [
        "* Vemos que a base de dados não possui dados faltantes.\r\n",
        "* Média(e STD) bem variada ao longo do DF.-> Processo de adquação\r\n",
        "* Variação bem alta do proline."
      ]
    },
    {
      "cell_type": "markdown",
      "metadata": {
        "id": "U4hBPtoXLns5"
      },
      "source": [
        "### vendo as relações"
      ]
    },
    {
      "cell_type": "code",
      "metadata": {
        "id": "kdRAd7h7LrWJ"
      },
      "source": [
        "matriz_corr = df.corr()"
      ],
      "execution_count": null,
      "outputs": []
    },
    {
      "cell_type": "code",
      "metadata": {
        "id": "ysx8r4xeLxuJ"
      },
      "source": [
        "corr_graf = corrplot.Corrplot(matriz_corr)\r\n",
        "corr_graf.plot(upper = 'ellipse', fontsize = 'x-large')\r\n",
        "fig = plt.gcf()\r\n",
        "fig.set_size_inches(14,14)\r\n",
        "fig.show()"
      ],
      "execution_count": null,
      "outputs": []
    },
    {
      "cell_type": "markdown",
      "metadata": {
        "id": "m6ckb3pMmD4f"
      },
      "source": [
        "### Normalização "
      ]
    },
    {
      "cell_type": "code",
      "metadata": {
        "id": "V-MF3A68MfoT"
      },
      "source": [
        "atributos = df.columns"
      ],
      "execution_count": null,
      "outputs": []
    },
    {
      "cell_type": "code",
      "metadata": {
        "id": "FxyPJHLzmRWM"
      },
      "source": [
        "atributos"
      ],
      "execution_count": null,
      "outputs": []
    },
    {
      "cell_type": "code",
      "metadata": {
        "id": "ndts9azOmSWB"
      },
      "source": [
        "from sklearn.preprocessing import MinMaxScaler"
      ],
      "execution_count": null,
      "outputs": []
    },
    {
      "cell_type": "code",
      "metadata": {
        "id": "E-bLc5Z0nZAM"
      },
      "source": [
        "min_maxScaler = MinMaxScaler()\r\n",
        "np_df = min_maxScaler.fit_transform(df)"
      ],
      "execution_count": null,
      "outputs": []
    },
    {
      "cell_type": "code",
      "metadata": {
        "id": "ggdTNldxntxH"
      },
      "source": [
        "df = pd.DataFrame(np_df, columns=atributos)"
      ],
      "execution_count": null,
      "outputs": []
    },
    {
      "cell_type": "code",
      "metadata": {
        "id": "CH7rHVYAn1yq"
      },
      "source": [
        "df.describe()"
      ],
      "execution_count": null,
      "outputs": []
    },
    {
      "cell_type": "code",
      "metadata": {
        "id": "owi2WteXn8uS"
      },
      "source": [
        ""
      ],
      "execution_count": null,
      "outputs": []
    },
    {
      "cell_type": "markdown",
      "metadata": {
        "id": "uIiOHqC2opPd"
      },
      "source": [
        "# Aula 02 Kmeans"
      ]
    },
    {
      "cell_type": "markdown",
      "metadata": {
        "id": "OHrHbcX5oxB3"
      },
      "source": [
        "### K-means"
      ]
    },
    {
      "cell_type": "code",
      "metadata": {
        "id": "LpomfHVAowCH"
      },
      "source": [
        "from sklearn.cluster import KMeans"
      ],
      "execution_count": null,
      "outputs": []
    },
    {
      "cell_type": "code",
      "metadata": {
        "id": "RnMQljfmpKT3"
      },
      "source": [
        "group1 = KMeans(n_clusters=4)"
      ],
      "execution_count": null,
      "outputs": []
    },
    {
      "cell_type": "code",
      "metadata": {
        "id": "l-G-AIFmpTDu"
      },
      "source": [
        "group1.fit(df)"
      ],
      "execution_count": null,
      "outputs": []
    },
    {
      "cell_type": "code",
      "metadata": {
        "id": "enXmpBnGpVMj"
      },
      "source": [
        "grupos = group1.labels_"
      ],
      "execution_count": null,
      "outputs": []
    },
    {
      "cell_type": "code",
      "metadata": {
        "id": "Ya5jGuGGpbcB"
      },
      "source": [
        "grupos"
      ],
      "execution_count": null,
      "outputs": []
    },
    {
      "cell_type": "code",
      "metadata": {
        "id": "EvXTcoXUpj4H"
      },
      "source": [
        "fig = go.Figure()\r\n",
        "fig.add_trace(go.Scatter(x= df['Intensidade_cor'], y = df['Alcool'],\r\n",
        "                         mode ='markers',marker=dict(color = group1.labels_.astype(np.float)),\r\n",
        "                         text = grupos\r\n",
        "                        ))\r\n",
        "fig.show()"
      ],
      "execution_count": null,
      "outputs": []
    },
    {
      "cell_type": "markdown",
      "metadata": {
        "id": "h4018V-trrCQ"
      },
      "source": [
        "### testando com outro K\r\n",
        "\r\n",
        "\r\n"
      ]
    },
    {
      "cell_type": "code",
      "metadata": {
        "id": "oSJ4Wv0NpnBw"
      },
      "source": [
        "group2 = KMeans(n_clusters=3)"
      ],
      "execution_count": null,
      "outputs": []
    },
    {
      "cell_type": "code",
      "metadata": {
        "id": "XSeHRC3Tr2N_"
      },
      "source": [
        "group2.fit(df)"
      ],
      "execution_count": null,
      "outputs": []
    },
    {
      "cell_type": "code",
      "metadata": {
        "id": "CBffTTRKr7TO"
      },
      "source": [
        "grupos2 = group2.labels_\r\n",
        "grupos2"
      ],
      "execution_count": null,
      "outputs": []
    },
    {
      "cell_type": "code",
      "metadata": {
        "id": "As2diPbisBNd"
      },
      "source": [
        "fig = go.Figure()\r\n",
        "fig.add_trace(go.Scatter(x= df['Intensidade_cor'], y = df['Alcool'],\r\n",
        "                         mode ='markers',marker=dict(color = group2.labels_.astype(np.float)),\r\n",
        "                         text = grupos2\r\n",
        "                        ))\r\n",
        "fig.show()"
      ],
      "execution_count": null,
      "outputs": []
    },
    {
      "cell_type": "markdown",
      "metadata": {
        "id": "pmVkgY48s6vS"
      },
      "source": [
        "### 3 Dimensões"
      ]
    },
    {
      "cell_type": "code",
      "metadata": {
        "id": "IF1_hQVnsH20"
      },
      "source": [
        "fig = go.Figure()\r\n",
        "fig.add_trace(go.Scatter3d(x= df['Intensidade_cor'], y = df['Alcool'],z = df['Proline'],\r\n",
        "                         mode ='markers',marker=dict(color = group2.labels_.astype(np.float)),\r\n",
        "                         text = grupos2\r\n",
        "                        ))\r\n",
        "fig.show()"
      ],
      "execution_count": null,
      "outputs": []
    },
    {
      "cell_type": "code",
      "metadata": {
        "id": "0JYeO1obtatE"
      },
      "source": [
        "fig.update_layout(scene = dict(\r\n",
        "    xaxis_title = 'Intensidade de Cor',\r\n",
        "    yaxis_title = 'Álcool',\r\n",
        "    zaxis_title = 'Proline'\r\n",
        "))\r\n",
        "\r\n",
        "fig.show()"
      ],
      "execution_count": null,
      "outputs": []
    },
    {
      "cell_type": "markdown",
      "metadata": {
        "id": "Dl1cPbUruZFK"
      },
      "source": [
        "### Criando centros"
      ]
    },
    {
      "cell_type": "code",
      "metadata": {
        "id": "VIIjQDO8uP9Q"
      },
      "source": [
        "centros = pd.DataFrame(group2.cluster_centers_)"
      ],
      "execution_count": null,
      "outputs": []
    },
    {
      "cell_type": "code",
      "metadata": {
        "id": "RGrfufB7uhAz"
      },
      "source": [
        "centros.columns = atributos"
      ],
      "execution_count": null,
      "outputs": []
    },
    {
      "cell_type": "code",
      "metadata": {
        "id": "_cMp1bhLukxW"
      },
      "source": [
        "centros.head()"
      ],
      "execution_count": null,
      "outputs": []
    },
    {
      "cell_type": "code",
      "metadata": {
        "id": "1X1_Yj2fumeD"
      },
      "source": [
        "fig.add_trace(go.Scatter3d(\r\n",
        "    x= centros['Intensidade_cor'],\r\n",
        "    y= centros['Alcool'],\r\n",
        "    z= centros['Proline'],\r\n",
        "    mode = 'markers',\r\n",
        "    marker = dict(color = 'red'),\r\n",
        "    text = [0,1,2]\r\n",
        "))\r\n",
        "fig.show()"
      ],
      "execution_count": null,
      "outputs": []
    },
    {
      "cell_type": "markdown",
      "metadata": {
        "id": "CgRE-ztQv9t2"
      },
      "source": [
        "### Testando a previsão"
      ]
    },
    {
      "cell_type": "code",
      "metadata": {
        "id": "AqE0t3ILvMaP"
      },
      "source": [
        "nova_amostra = [10,10,1.5,27,4,14,38,0.7,10, 1, 10,4 ,16,12]\r\n",
        "label_nova_amostra = group2.predict([nova_amostra])\r\n",
        "print(label_nova_amostra)"
      ],
      "execution_count": null,
      "outputs": []
    },
    {
      "cell_type": "code",
      "metadata": {
        "id": "HOyZMpIswU7O"
      },
      "source": [
        ""
      ],
      "execution_count": null,
      "outputs": []
    },
    {
      "cell_type": "markdown",
      "metadata": {
        "id": "QWsS6nUfD7PU"
      },
      "source": [
        "# Aula 03 DBSCAN"
      ]
    },
    {
      "cell_type": "code",
      "metadata": {
        "id": "JpObcvL3D-GE"
      },
      "source": [
        "from sklearn.cluster import DBSCAN"
      ],
      "execution_count": null,
      "outputs": []
    },
    {
      "cell_type": "code",
      "metadata": {
        "id": "HEFjuNsA7QVN"
      },
      "source": [
        "dbscan = DBSCAN(eps = 1.31, min_samples=15, metric='manhattan')\r\n",
        "dbscan.fit(df)"
      ],
      "execution_count": null,
      "outputs": []
    },
    {
      "cell_type": "code",
      "metadata": {
        "id": "9SWCXXqU7sbd"
      },
      "source": [
        "dbscan.labels_"
      ],
      "execution_count": null,
      "outputs": []
    },
    {
      "cell_type": "code",
      "metadata": {
        "id": "iQlU32OY7-CC"
      },
      "source": [
        "np.unique(dbscan.labels_)"
      ],
      "execution_count": null,
      "outputs": []
    },
    {
      "cell_type": "code",
      "metadata": {
        "id": "x0aaj8SK8KuK"
      },
      "source": [
        "dbscan2 = DBSCAN(eps=0.5, min_samples=15, metric='euclidean')\r\n",
        "dbscan2.fit(df)\r\n",
        "dbscan2.labels_"
      ],
      "execution_count": null,
      "outputs": []
    },
    {
      "cell_type": "code",
      "metadata": {
        "id": "iKPwRat-97ic"
      },
      "source": [
        "np.unique(dbscan2.labels_)"
      ],
      "execution_count": null,
      "outputs": []
    },
    {
      "cell_type": "code",
      "metadata": {
        "id": "ipJOnJnuAH0n"
      },
      "source": [
        "labels = dbscan2.labels_+1\r\n",
        "print(labels)"
      ],
      "execution_count": null,
      "outputs": []
    },
    {
      "cell_type": "code",
      "metadata": {
        "id": "WFzakLDU-9Uc"
      },
      "source": [
        "fig = go.Figure()\r\n",
        "fig.add_trace(go.Scatter3d(x=df['Intensidade_cor'],\r\n",
        "                         y=df['Alcool'], z = df['Proline'],\r\n",
        "                         mode='markers',                      \r\n",
        "                      marker=dict(color =labels.astype(np.float)),\r\n",
        "                        text=labels))\r\n",
        "fig.show()"
      ],
      "execution_count": null,
      "outputs": []
    },
    {
      "cell_type": "code",
      "metadata": {
        "id": "BT8cf30kAmbz"
      },
      "source": [
        ""
      ],
      "execution_count": null,
      "outputs": []
    },
    {
      "cell_type": "markdown",
      "metadata": {
        "id": "44l7IrFhBLhR"
      },
      "source": [
        "# Aula 04 mean shift"
      ]
    },
    {
      "cell_type": "code",
      "metadata": {
        "id": "td7703SmBPWS"
      },
      "source": [
        "from sklearn.cluster import MeanShift, estimate_bandwidth"
      ],
      "execution_count": null,
      "outputs": []
    },
    {
      "cell_type": "code",
      "metadata": {
        "id": "lRu9dFQ-7uIx"
      },
      "source": [
        "meanShift = MeanShift()"
      ],
      "execution_count": null,
      "outputs": []
    },
    {
      "cell_type": "code",
      "metadata": {
        "id": "EaYKcfEt7w2m"
      },
      "source": [
        "meanShift.fit(df)"
      ],
      "execution_count": null,
      "outputs": []
    },
    {
      "cell_type": "code",
      "metadata": {
        "id": "sdvoFccI7z6-"
      },
      "source": [
        "meanShift.labels_"
      ],
      "execution_count": null,
      "outputs": []
    },
    {
      "cell_type": "code",
      "metadata": {
        "id": "ibs-aBxY73A9"
      },
      "source": [
        "BW = estimate_bandwidth(df,quantile=0.3)\r\n",
        "agrupador = MeanShift(bandwidth=BW)\r\n",
        "agrupador.fit(df)\r\n",
        "agrupador.labels_"
      ],
      "execution_count": null,
      "outputs": []
    },
    {
      "cell_type": "code",
      "metadata": {
        "id": "HgsRBkmG_10V"
      },
      "source": [
        "fig = go.Figure()\r\n",
        "fig.add_trace(go.Scatter3d(x=df['Intensidade_cor'],\r\n",
        "                         y=df['Alcool'], z=df['Proline'],\r\n",
        "                         mode = 'markers',                      \r\n",
        "                          marker = dict(color = agrupador.labels_.astype(np.float)),\r\n",
        "                        text = [0, 1, 2]))\r\n",
        "fig.show()"
      ],
      "execution_count": null,
      "outputs": []
    },
    {
      "cell_type": "code",
      "metadata": {
        "id": "3OMwP7ItATa2"
      },
      "source": [
        "fig.update_layout(scene = dict(\r\n",
        "                    xaxis_title='Intensidade de Cor',\r\n",
        "                    yaxis_title='Àlcool',\r\n",
        "                    zaxis_title='Proline'))\r\n",
        "fig.show()"
      ],
      "execution_count": null,
      "outputs": []
    },
    {
      "cell_type": "code",
      "metadata": {
        "id": "VPSUWjM7A3wM"
      },
      "source": [
        "centros = pd.DataFrame(agrupador.cluster_centers_)\r\n",
        "centros.columns = atributos"
      ],
      "execution_count": null,
      "outputs": []
    },
    {
      "cell_type": "code",
      "metadata": {
        "id": "jjHMn-nnBADk"
      },
      "source": [
        "fig.add_trace(go.Scatter3d(x=centros['Intensidade_cor'],\r\n",
        "                         y=centros['Alcool'], z=centros['Proline'],\r\n",
        "                         mode = 'markers',                  \r\n",
        "                          marker = dict(color = 'red'),\r\n",
        "                        text = [0, 1, 2]))\r\n",
        "fig.show()"
      ],
      "execution_count": null,
      "outputs": []
    },
    {
      "cell_type": "code",
      "metadata": {
        "id": "PZNtjWGXBHEu"
      },
      "source": [
        ""
      ],
      "execution_count": null,
      "outputs": []
    },
    {
      "cell_type": "markdown",
      "metadata": {
        "id": "Sq2fM63QBddl"
      },
      "source": [
        "# Aula 05 Coeficiente de Silhueta"
      ]
    },
    {
      "cell_type": "code",
      "metadata": {
        "id": "HpRjH0WrBiFd"
      },
      "source": [
        "agrupador = KMeans(n_clusters=5)\r\n",
        "agrupador.fit(df)\r\n",
        "agrupador.labels_"
      ],
      "execution_count": null,
      "outputs": []
    },
    {
      "cell_type": "code",
      "metadata": {
        "id": "J1vJENkkEPm9"
      },
      "source": [
        "labels = agrupador.labels_"
      ],
      "execution_count": null,
      "outputs": []
    },
    {
      "cell_type": "code",
      "metadata": {
        "id": "us2W7CpeB1lA"
      },
      "source": [
        "fig = go.Figure()\r\n",
        "fig.add_trace(go.Scatter3d(x=df['Intensidade_cor'],\r\n",
        "                         y=df['Alcool'], z=df['Proline'],\r\n",
        "                         mode = 'markers',                      \r\n",
        "                          marker = dict(color = agrupador.labels_.astype(np.float)),\r\n",
        "                        text =labels ))\r\n",
        "fig.show()"
      ],
      "execution_count": null,
      "outputs": []
    },
    {
      "cell_type": "markdown",
      "metadata": {
        "id": "2c4d_QqJK4pd"
      },
      "source": [
        "## Coeficiente de Silhueta K-means"
      ]
    },
    {
      "cell_type": "code",
      "metadata": {
        "id": "eZ_wNQA4ETWu"
      },
      "source": [
        "from sklearn.metrics import silhouette_score"
      ],
      "execution_count": null,
      "outputs": []
    },
    {
      "cell_type": "code",
      "metadata": {
        "id": "dv342zN6LBIr"
      },
      "source": [
        "faixa_n_cluster = [i for i in range(2,10)]\r\n",
        "print(faixa_n_cluster)"
      ],
      "execution_count": null,
      "outputs": []
    },
    {
      "cell_type": "code",
      "metadata": {
        "id": "WdogwoL5LRvH"
      },
      "source": [
        "from sklearn.cluster import KMeans\r\n",
        "valores_silhueta=[]"
      ],
      "execution_count": null,
      "outputs": []
    },
    {
      "cell_type": "code",
      "metadata": {
        "id": "tKKYM_MkLbMW"
      },
      "source": [
        "for k in faixa_n_cluster:\r\n",
        "    agrupador = KMeans(n_clusters=k)\r\n",
        "    labels = agrupador.fit_predict(df)\r\n",
        "    media_silhueta = silhouette_score(df,labels)\r\n",
        "    valores_silhueta.append(media_silhueta)"
      ],
      "execution_count": null,
      "outputs": []
    },
    {
      "cell_type": "code",
      "metadata": {
        "id": "viGvAWMML1PT"
      },
      "source": [
        "fig = go.Figure()\r\n",
        "fig.add_trace(go.Scatter(x = faixa_n_cluster, y=valores_silhueta))\r\n",
        "fig.update_layout(\r\n",
        "    title = \"Valores de Silhueta Médios\",\r\n",
        "    xaxis_title = \"Número de cluster\",\r\n",
        "    yaxis_title = \"Valor médio de silhueta\"\r\n",
        ")\r\n",
        "fig.show()\r\n"
      ],
      "execution_count": null,
      "outputs": []
    },
    {
      "cell_type": "code",
      "metadata": {
        "id": "EaBE64wEMdGN"
      },
      "source": [
        ""
      ],
      "execution_count": null,
      "outputs": []
    },
    {
      "cell_type": "markdown",
      "metadata": {
        "id": "arebVQStNdzl"
      },
      "source": [
        "## Coeficiente de Silhueta Mean-Shift\r\n",
        "\r\n",
        "\r\n"
      ]
    },
    {
      "cell_type": "code",
      "metadata": {
        "id": "14XJzK_cNhai"
      },
      "source": [
        "faixa_quantil = np.linspace(0.02, 0.5, 30)\r\n",
        "faixa_quantil"
      ],
      "execution_count": null,
      "outputs": []
    },
    {
      "cell_type": "code",
      "metadata": {
        "id": "fqXPz5vKNsna"
      },
      "source": [
        "valores_silhueta_mean_shift=[]\r\n",
        "quantil_plot = []\r\n",
        "for quantil in faixa_quantil:\r\n",
        "    bw = estimate_bandwidth(df, quantile = quantil)\r\n",
        "    agrupador = MeanShift(bandwidth=bw)\r\n",
        "    labels = agrupador.fit_predict(df)\r\n",
        "    if (len(np.unique(labels))< len(df) and len(np.unique(labels))>1): \r\n",
        "        media_silhueta = silhouette_score(df,labels)\r\n",
        "        valores_silhueta_mean_shift.append(media_silhueta)\r\n",
        "        quantil_plot.append(quantil)"
      ],
      "execution_count": null,
      "outputs": []
    },
    {
      "cell_type": "code",
      "metadata": {
        "id": "9i-gSlU2O-K6"
      },
      "source": [
        "fig = go.Figure()\r\n",
        "fig.add_trace(go.Scatter(x = quantil_plot,\r\n",
        "                         y= valores_silhueta_mean_shift))\r\n",
        "fig.update_layout(dict(xaxis_title='Quantil'),\r\n",
        "                        yaxis_title='Media silhueta')\r\n",
        "fig.show()"
      ],
      "execution_count": null,
      "outputs": []
    },
    {
      "cell_type": "code",
      "metadata": {
        "id": "cy6ck1YFuYc5"
      },
      "source": [
        ""
      ],
      "execution_count": null,
      "outputs": []
    }
  ]
}