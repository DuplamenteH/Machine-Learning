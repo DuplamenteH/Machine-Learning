{
  "nbformat": 4,
  "nbformat_minor": 0,
  "metadata": {
    "colab": {
      "name": "Aula2.ipynb",
      "provenance": [],
      "authorship_tag": "ABX9TyOvx1nepxFb3skE4IZ2E4rZ",
      "include_colab_link": true
    },
    "kernelspec": {
      "name": "python3",
      "display_name": "Python 3"
    }
  },
  "cells": [
    {
      "cell_type": "markdown",
      "metadata": {
        "id": "view-in-github",
        "colab_type": "text"
      },
      "source": [
        "<a href=\"https://colab.research.google.com/github/DuplamenteH/Machine-Learning/blob/master/Aula2.ipynb\" target=\"_parent\"><img src=\"https://colab.research.google.com/assets/colab-badge.svg\" alt=\"Open In Colab\"/></a>"
      ]
    },
    {
      "cell_type": "markdown",
      "metadata": {
        "id": "57prCetgKuL3",
        "colab_type": "text"
      },
      "source": [
        "# Lendo dados da WEB e manipupando os mesmos"
      ]
    },
    {
      "cell_type": "code",
      "metadata": {
        "id": "hU7OAhEZKb17",
        "colab_type": "code",
        "colab": {
          "base_uri": "https://localhost:8080/",
          "height": 206
        },
        "outputId": "5b0ef010-8ad0-4f2b-bc3a-1f97875ffc98"
      },
      "source": [
        "import pandas as pd\n",
        "uri = \"https://gist.githubusercontent.com/guilhermesilveira/2d2efa37d66b6c84a722ea627a897ced/raw/10968b997d885cbded1c92938c7a9912ba41c615/tracking.csv\"\n",
        "dados = pd.read_csv(uri)\n",
        "dados.head(5)"
      ],
      "execution_count": 1,
      "outputs": [
        {
          "output_type": "execute_result",
          "data": {
            "text/html": [
              "<div>\n",
              "<style scoped>\n",
              "    .dataframe tbody tr th:only-of-type {\n",
              "        vertical-align: middle;\n",
              "    }\n",
              "\n",
              "    .dataframe tbody tr th {\n",
              "        vertical-align: top;\n",
              "    }\n",
              "\n",
              "    .dataframe thead th {\n",
              "        text-align: right;\n",
              "    }\n",
              "</style>\n",
              "<table border=\"1\" class=\"dataframe\">\n",
              "  <thead>\n",
              "    <tr style=\"text-align: right;\">\n",
              "      <th></th>\n",
              "      <th>home</th>\n",
              "      <th>how_it_works</th>\n",
              "      <th>contact</th>\n",
              "      <th>bought</th>\n",
              "    </tr>\n",
              "  </thead>\n",
              "  <tbody>\n",
              "    <tr>\n",
              "      <th>0</th>\n",
              "      <td>1</td>\n",
              "      <td>1</td>\n",
              "      <td>0</td>\n",
              "      <td>0</td>\n",
              "    </tr>\n",
              "    <tr>\n",
              "      <th>1</th>\n",
              "      <td>1</td>\n",
              "      <td>1</td>\n",
              "      <td>0</td>\n",
              "      <td>0</td>\n",
              "    </tr>\n",
              "    <tr>\n",
              "      <th>2</th>\n",
              "      <td>1</td>\n",
              "      <td>1</td>\n",
              "      <td>0</td>\n",
              "      <td>0</td>\n",
              "    </tr>\n",
              "    <tr>\n",
              "      <th>3</th>\n",
              "      <td>1</td>\n",
              "      <td>1</td>\n",
              "      <td>0</td>\n",
              "      <td>0</td>\n",
              "    </tr>\n",
              "    <tr>\n",
              "      <th>4</th>\n",
              "      <td>1</td>\n",
              "      <td>1</td>\n",
              "      <td>0</td>\n",
              "      <td>0</td>\n",
              "    </tr>\n",
              "  </tbody>\n",
              "</table>\n",
              "</div>"
            ],
            "text/plain": [
              "   home  how_it_works  contact  bought\n",
              "0     1             1        0       0\n",
              "1     1             1        0       0\n",
              "2     1             1        0       0\n",
              "3     1             1        0       0\n",
              "4     1             1        0       0"
            ]
          },
          "metadata": {
            "tags": []
          },
          "execution_count": 1
        }
      ]
    },
    {
      "cell_type": "markdown",
      "metadata": {
        "id": "2TEBinXnMEZ9",
        "colab_type": "text"
      },
      "source": [
        "## Dividindo os dados"
      ]
    },
    {
      "cell_type": "markdown",
      "metadata": {
        "id": "xiRoTj9bQKzy",
        "colab_type": "text"
      },
      "source": [
        "###Renomeando colunas e separando features"
      ]
    },
    {
      "cell_type": "code",
      "metadata": {
        "id": "U8QyiCgvMn1k",
        "colab_type": "code",
        "colab": {}
      },
      "source": [
        "mapa = {\n",
        "    \"home\":\"inicio\",\n",
        "    \"how_it_works\":\"como_funciona\",\n",
        "    \"contact\":\"contato\",\n",
        "    \"bought\":\"comprou\"\n",
        "}\n",
        "\n",
        "dados=dados.rename(columns=mapa)"
      ],
      "execution_count": 0,
      "outputs": []
    },
    {
      "cell_type": "code",
      "metadata": {
        "id": "Ht2ag9UCLveT",
        "colab_type": "code",
        "colab": {}
      },
      "source": [
        "x = dados[[\"inicio\",\"como_funciona\",\"contato\"]]\n",
        "y = dados[\"comprou\"]"
      ],
      "execution_count": 0,
      "outputs": []
    },
    {
      "cell_type": "markdown",
      "metadata": {
        "id": "uSrKaKfYQUyI",
        "colab_type": "text"
      },
      "source": [
        "###Separando treino e testes"
      ]
    },
    {
      "cell_type": "code",
      "metadata": {
        "id": "KL0zI1v0OJVf",
        "colab_type": "code",
        "colab": {
          "base_uri": "https://localhost:8080/",
          "height": 34
        },
        "outputId": "19e1dbf4-a563-43bc-b788-23ad33f4ac88"
      },
      "source": [
        "from sklearn.model_selection import train_test_split\n",
        "SEED = 20\n",
        "treino_x, teste_x, treino_y, teste_y = train_test_split(x, y, random_state = SEED, test_size = 0.25)\n",
        "\n",
        "print(\"treino: %d ; teste: %d\" % (len(treino_x), len(teste_x)))"
      ],
      "execution_count": 4,
      "outputs": [
        {
          "output_type": "stream",
          "text": [
            "treino: 74 ; teste: 25\n"
          ],
          "name": "stdout"
        }
      ]
    },
    {
      "cell_type": "markdown",
      "metadata": {
        "id": "TVOftVWlQijS",
        "colab_type": "text"
      },
      "source": [
        "##Treiando e Testando\n"
      ]
    },
    {
      "cell_type": "code",
      "metadata": {
        "id": "Yjb9IkG6QjGL",
        "colab_type": "code",
        "colab": {}
      },
      "source": [
        "from sklearn.svm import LinearSVC as LSVC\n",
        "from sklearn.metrics import accuracy_score"
      ],
      "execution_count": 0,
      "outputs": []
    },
    {
      "cell_type": "code",
      "metadata": {
        "id": "ShaJl__URkcK",
        "colab_type": "code",
        "colab": {
          "base_uri": "https://localhost:8080/",
          "height": 156
        },
        "outputId": "8c4e28a6-7f5a-4c33-b056-79930e82a26c"
      },
      "source": [
        "modelo = LSVC()\n",
        "modelo.fit(treino_x,treino_y)\n",
        "\n",
        "previsoes = modelo.predict(teste_x)\n",
        "\n",
        "acertos = accuracy_score(teste_y,previsoes)*100\n",
        "\n",
        "print(\"Taxa de acertos foi de %.2f%%\"% acertos)\n",
        "\n",
        "print(treino_y.value_counts())\n",
        "print(\"\\n\", teste_y.value_counts())\n"
      ],
      "execution_count": 6,
      "outputs": [
        {
          "output_type": "stream",
          "text": [
            "Taxa de acertos foi de 96.00%\n",
            "0    47\n",
            "1    27\n",
            "Name: comprou, dtype: int64\n",
            "\n",
            " 0    19\n",
            "1     6\n",
            "Name: comprou, dtype: int64\n"
          ],
          "name": "stdout"
        }
      ]
    },
    {
      "cell_type": "markdown",
      "metadata": {
        "id": "ING4vVhJXGgY",
        "colab_type": "text"
      },
      "source": [
        "treino_y 2 pra 1 (para cada 2 pessoas 1 comprou)\n",
        "teste_y 4 pra 1  (para cada 4 pessoas 1 comprou)"
      ]
    },
    {
      "cell_type": "markdown",
      "metadata": {
        "id": "1VzhvIm0V6EV",
        "colab_type": "text"
      },
      "source": [
        "## Outros Teste"
      ]
    },
    {
      "cell_type": "code",
      "metadata": {
        "id": "RIzlyYMqV-Jz",
        "colab_type": "code",
        "colab": {
          "base_uri": "https://localhost:8080/",
          "height": 173
        },
        "outputId": "23b02f78-76e3-4833-9562-135db836f272"
      },
      "source": [
        "from sklearn.model_selection import train_test_split\n",
        "from sklearn.svm import LinearSVC\n",
        "from sklearn.metrics import accuracy_score\n",
        "\n",
        "SEED = 20\n",
        "\n",
        "treino_x, teste_x, treino_y, teste_y = train_test_split(x, y,\n",
        "                                                         random_state = SEED, test_size = 0.25,\n",
        "                                                         stratify = y)\n",
        "print(\"Treinaremos com %d elementos e testaremos com %d elementos\" % (len(treino_x), len(teste_x)))\n",
        "\n",
        "modelo = LinearSVC()\n",
        "modelo.fit(treino_x, treino_y)\n",
        "previsoes = modelo.predict(teste_x)\n",
        "\n",
        "acuracia = accuracy_score(teste_y, previsoes) * 100\n",
        "print(\"A acurácia foi %.2f%%\" % acuracia)\n",
        "print(treino_y.value_counts())\n",
        "print(\"\\n\",teste_y.value_counts())"
      ],
      "execution_count": 7,
      "outputs": [
        {
          "output_type": "stream",
          "text": [
            "Treinaremos com 74 elementos e testaremos com 25 elementos\n",
            "A acurácia foi 96.00%\n",
            "0    49\n",
            "1    25\n",
            "Name: comprou, dtype: int64\n",
            "\n",
            " 0    17\n",
            "1     8\n",
            "Name: comprou, dtype: int64\n"
          ],
          "name": "stdout"
        }
      ]
    },
    {
      "cell_type": "markdown",
      "metadata": {
        "id": "8QMnUUnZXnyN",
        "colab_type": "text"
      },
      "source": [
        "treino_y 2 pra 1 (para cada 2 pessoas 1 comprou)\n",
        "teste_y 2 pra 1  (para cada 2 pessoas 1 comprou)"
      ]
    }
  ]
}