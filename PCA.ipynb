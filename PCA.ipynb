{
  "nbformat": 4,
  "nbformat_minor": 0,
  "metadata": {
    "colab": {
      "name": "PCA.ipynb",
      "private_outputs": true,
      "provenance": [],
      "collapsed_sections": [],
      "authorship_tag": "ABX9TyPNJCU4X3CPoLbudTGhv5CE",
      "include_colab_link": true
    },
    "kernelspec": {
      "name": "python3",
      "display_name": "Python 3"
    }
  },
  "cells": [
    {
      "cell_type": "markdown",
      "metadata": {
        "id": "view-in-github",
        "colab_type": "text"
      },
      "source": [
        "<a href=\"https://colab.research.google.com/github/DuplamenteH/Machine-Learning/blob/master/PCA.ipynb\" target=\"_parent\"><img src=\"https://colab.research.google.com/assets/colab-badge.svg\" alt=\"Open In Colab\"/></a>"
      ]
    },
    {
      "cell_type": "markdown",
      "metadata": {
        "id": "j4hV2bxViVhp"
      },
      "source": [
        "# Aula 1"
      ]
    },
    {
      "cell_type": "markdown",
      "metadata": {
        "id": "fjLh80KrHUZ6"
      },
      "source": [
        "Importações"
      ]
    },
    {
      "cell_type": "code",
      "metadata": {
        "id": "w8QvfcAuHDf-"
      },
      "source": [
        "import pandas as pd\n",
        "url = 'https://raw.githubusercontent.com/alura-cursos/reducao-dimensionalidade/master/data-set/exames.csv'"
      ],
      "execution_count": null,
      "outputs": []
    },
    {
      "cell_type": "code",
      "metadata": {
        "id": "rwCq2U0pHejr"
      },
      "source": [
        "dados = pd.read_csv(url, sep=',')\n",
        "dados.head()"
      ],
      "execution_count": null,
      "outputs": []
    },
    {
      "cell_type": "markdown",
      "metadata": {
        "id": "ROqsFoA1fZ9M"
      },
      "source": [
        "divisão dos dados."
      ]
    },
    {
      "cell_type": "code",
      "metadata": {
        "id": "NDnO-xAdfHcZ"
      },
      "source": [
        "valores_exames = dados.drop(columns=[\"id\", \"diagnostico\"])\n",
        "diagnostico = dados.diagnostico"
      ],
      "execution_count": null,
      "outputs": []
    },
    {
      "cell_type": "code",
      "metadata": {
        "id": "yhJU79LiHqoU"
      },
      "source": [
        "from sklearn.model_selection import train_test_split\n",
        "from numpy import random\n",
        "\n",
        "SEED = 123143\n",
        "random.seed(SEED)\n",
        "\n",
        "treino_x, teste_x, treino_y, teste_y = train_test_split(valores_exames, diagnostico)"
      ],
      "execution_count": null,
      "outputs": []
    },
    {
      "cell_type": "markdown",
      "metadata": {
        "id": "Z9qU5DWngQ7Q"
      },
      "source": [
        "primeiro teste\n",
        "sabemos q vai resultar em um error."
      ]
    },
    {
      "cell_type": "code",
      "metadata": {
        "id": "C2xtq32kfYyE"
      },
      "source": [
        "from sklearn.ensemble import RandomForestClassifier\n",
        "\n",
        "classificador = RandomForestClassifier(n_estimators = 100)\n",
        "classificador.fit(treino_x, treino_y)\n",
        "print(classificador.score(teste_x, teste_y))"
      ],
      "execution_count": null,
      "outputs": []
    },
    {
      "cell_type": "code",
      "metadata": {
        "id": "fgYLIn3ag5jF"
      },
      "source": [
        "dados.isnull().sum()"
      ],
      "execution_count": null,
      "outputs": []
    },
    {
      "cell_type": "code",
      "metadata": {
        "id": "bfOTvSi4h1K4"
      },
      "source": [
        "from sklearn.ensemble import RandomForestClassifier\n",
        "from sklearn.model_selection import train_test_split\n",
        "from numpy import random\n",
        "\n",
        "SEED = 123143\n",
        "random.seed(SEED)\n",
        "\n",
        "valores_exames = dados.drop(columns=[\"id\", \"diagnostico\"])\n",
        "diagnostico = dados.diagnostico\n",
        "valores_exames_v1 = valores_exames.drop(columns=\"exame_33\")\n",
        "\n",
        "treino_x, teste_x, treino_y, teste_y = train_test_split(valores_exames_v1, diagnostico, test_size = 0.3)\n",
        "\n",
        "\n",
        "classificador = RandomForestClassifier(n_estimators = 100)\n",
        "classificador.fit(treino_x, treino_y)\n",
        "print(\"Resultado da classificação %.2f%%\" % (classificador.score(teste_x, teste_y)* 100))"
      ],
      "execution_count": null,
      "outputs": []
    },
    {
      "cell_type": "code",
      "metadata": {
        "id": "21w9GwIgiuL3"
      },
      "source": [
        "from sklearn.dummy import DummyClassifier\n",
        "\n",
        "SEED = 123143\n",
        "random.seed(SEED)\n",
        "\n",
        "classificador_bobo = DummyClassifier(strategy = \"most_frequent\")\n",
        "classificador_bobo.fit(treino_x, treino_y)\n",
        "print(\"Resultado da classificação boba %.2f%%\" % (classificador_bobo.score(teste_x, teste_y)* 100))"
      ],
      "execution_count": null,
      "outputs": []
    },
    {
      "cell_type": "code",
      "metadata": {
        "id": "IOZIKdHxZFo8"
      },
      "source": [
        "dados_plot = pd.concat([diagnostico,valores_exames_v1.iloc[:,0:10]],axis=1)\r\n",
        "dados_plot = pd.melt(dados_plot,id_vars= \"diagnostico\",\r\n",
        "                var_name= \"exames\",\r\n",
        "                value_name= \"valores\"\r\n",
        "                )\r\n",
        "dados_plot.head()"
      ],
      "execution_count": null,
      "outputs": []
    },
    {
      "cell_type": "markdown",
      "metadata": {
        "id": "7Pi0S0U3Srao"
      },
      "source": [
        "#Aula 2"
      ]
    },
    {
      "cell_type": "code",
      "metadata": {
        "id": "XHeVjWmxYxse"
      },
      "source": [
        "import seaborn as sns\r\n",
        "import matplotlib.pyplot as plt\r\n",
        "\r\n",
        "\r\n",
        "plt.figure(figsize=(10,10))\r\n",
        "sns.violinplot(x = \"exames\", y = \"valores\",\r\n",
        "               hue = \"diagnostico\",\r\n",
        "               data= dados_plot)\r\n",
        "plt.xticks(rotation=90)\r\n",
        "plt.show()"
      ],
      "execution_count": null,
      "outputs": []
    },
    {
      "cell_type": "code",
      "metadata": {
        "id": "NyH6wk2Hc3FM"
      },
      "source": [
        "import seaborn as sns\r\n",
        "import matplotlib.pyplot as plt\r\n",
        "from sklearn.preprocessing import StandardScaler"
      ],
      "execution_count": null,
      "outputs": []
    },
    {
      "cell_type": "code",
      "metadata": {
        "id": "UKYvnUUabXvd"
      },
      "source": [
        "std = StandardScaler()\r\n",
        "std.fit(valores_exames_v1)\r\n",
        "valores_exames_v2 = std.transform(valores_exames_v1)\r\n",
        "\r\n",
        "valores_exames_v2 = pd.DataFrame(data= valores_exames_v2,\r\n",
        "                                 columns = valores_exames_v1.keys())\r\n",
        "\r\n",
        "\r\n",
        "\r\n",
        "dados_plot = pd.concat([diagnostico,valores_exames_v2.iloc[:,0:10]],axis=1)\r\n",
        "dados_plot = pd.melt(dados_plot,id_vars= \"diagnostico\",\r\n",
        "                var_name= \"exames\",\r\n",
        "                value_name= \"valores\"\r\n",
        "                )\r\n",
        "\r\n",
        "plt.figure(figsize=(15,15))\r\n",
        "sns.violinplot(x = \"exames\", y = \"valores\",\r\n",
        "               hue = \"diagnostico\",\r\n",
        "               data= dados_plot,\r\n",
        "               split=True)\r\n",
        "plt.xticks(rotation=90)\r\n",
        "plt.show()\r\n",
        "\r\n",
        "\r\n",
        "\r\n",
        "\r\n"
      ],
      "execution_count": null,
      "outputs": []
    },
    {
      "cell_type": "code",
      "metadata": {
        "id": "D5HULem_dglm"
      },
      "source": [
        "def violino_graph(valores, inicio, fim, size):\r\n",
        "    dados_plot = pd.concat([diagnostico,valores.iloc[:,inicio:fim]],axis=1)\r\n",
        "    dados_plot = pd.melt(dados_plot,id_vars= \"diagnostico\",\r\n",
        "                var_name= \"exames\",\r\n",
        "                value_name= \"valores\"\r\n",
        "                )\r\n",
        "\r\n",
        "    plt.figure(figsize=(size,size))\r\n",
        "    sns.violinplot(x = \"exames\", y = \"valores\",\r\n",
        "               hue = \"diagnostico\",\r\n",
        "               data= dados_plot,\r\n",
        "               split=True)\r\n",
        "    plt.xticks(rotation=90)\r\n",
        "    plt.show()"
      ],
      "execution_count": null,
      "outputs": []
    },
    {
      "cell_type": "code",
      "metadata": {
        "id": "zQi6-_R1ZG_G"
      },
      "source": [
        "violino_graph(valores_exames_v2, 0,10, 15)"
      ],
      "execution_count": null,
      "outputs": []
    },
    {
      "cell_type": "code",
      "metadata": {
        "id": "j3B9_ROXXzmA"
      },
      "source": [
        "violino_graph(valores_exames_v2, 10,21, 15)"
      ],
      "execution_count": null,
      "outputs": []
    },
    {
      "cell_type": "code",
      "metadata": {
        "id": "stP5gYX8X5bE"
      },
      "source": [
        "violino_graph(valores_exames_v2, 21,32, 15)"
      ],
      "execution_count": null,
      "outputs": []
    },
    {
      "cell_type": "markdown",
      "metadata": {
        "id": "rrdb-L_NZtK_"
      },
      "source": [
        "Com os gráficos acima podemos identificar diversar variaveis constantes</br>\r\n",
        "e o exame 15 tendo um pico de Benigno e tendo uma postura contante nas variaveis malignas."
      ]
    },
    {
      "cell_type": "code",
      "metadata": {
        "id": "dKqyNsUfazJ9"
      },
      "source": [
        "valores_exames_v3 = valores_exames_v2.drop(columns=['exame_29','exame_4'])\r\n",
        "\r\n",
        "\r\n",
        "def classificar(valores):\r\n",
        "    SEED =1234\r\n",
        "    random.seed(SEED)\r\n",
        "    treino_x, teste_x, treino_y, teste_y = train_test_split(valores, diagnostico, test_size = 0.3)\r\n",
        "    classificador = RandomForestClassifier(n_estimators = 100)\r\n",
        "    classificador.fit(treino_x, treino_y)\r\n",
        "    print(\"Resultado da classificação %.2f%%\" % (classificador.score(teste_x, teste_y)* 100))"
      ],
      "execution_count": null,
      "outputs": []
    },
    {
      "cell_type": "code",
      "metadata": {
        "id": "dU358G1Iba7c"
      },
      "source": [
        "classificar(valores_exames_v3)"
      ],
      "execution_count": null,
      "outputs": []
    },
    {
      "cell_type": "markdown",
      "metadata": {
        "id": "V4S3AGe1cFu9"
      },
      "source": [
        "# Aula 03"
      ]
    },
    {
      "cell_type": "code",
      "metadata": {
        "id": "iZ-L4aekbe29"
      },
      "source": [
        "valores_exames_v3.corr()"
      ],
      "execution_count": null,
      "outputs": []
    },
    {
      "cell_type": "code",
      "metadata": {
        "id": "Kh2HapcZcY--"
      },
      "source": [
        "corr_matrix = valores_exames_v3.corr()\r\n",
        "plt.figure(figsize=(20,15))\r\n",
        "\r\n",
        "sns.heatmap(corr_matrix, annot=True, fmt=\".1f\") # Annot = True -> coloca o valor da correlação nos quadradinhos, fmt casa decimais dos valores."
      ],
      "execution_count": null,
      "outputs": []
    },
    {
      "cell_type": "code",
      "metadata": {
        "id": "QrZiLvJUdX1O"
      },
      "source": [
        "corr_matrix_v1 = corr_matrix[corr_matrix>0.99]\r\n"
      ],
      "execution_count": null,
      "outputs": []
    },
    {
      "cell_type": "code",
      "metadata": {
        "id": "APXkq0j8f2yL"
      },
      "source": [
        "corr_matrix_v2 =  corr_matrix_v1.sum()"
      ],
      "execution_count": null,
      "outputs": []
    },
    {
      "cell_type": "code",
      "metadata": {
        "id": "lfrWszUHf_60"
      },
      "source": [
        "corr_matrix_v2"
      ],
      "execution_count": null,
      "outputs": []
    },
    {
      "cell_type": "code",
      "metadata": {
        "id": "-DePAvF8gFC2"
      },
      "source": [
        "variaveis_cor = corr_matrix_v2[corr_matrix_v2 >1]\r\n",
        "variaveis_cor"
      ],
      "execution_count": null,
      "outputs": []
    },
    {
      "cell_type": "code",
      "metadata": {
        "id": "nY3MWvFZgXLc"
      },
      "source": [
        "valores_exames_v4 = valores_exames_v3.drop(columns=variaveis_cor.keys())"
      ],
      "execution_count": null,
      "outputs": []
    },
    {
      "cell_type": "code",
      "metadata": {
        "id": "o-AkFWNHgxPc"
      },
      "source": [
        "valores_exames_v4.head()"
      ],
      "execution_count": null,
      "outputs": []
    },
    {
      "cell_type": "code",
      "metadata": {
        "id": "vZJYuJcVgy8D"
      },
      "source": [
        "classificar(valores_exames_v4)"
      ],
      "execution_count": null,
      "outputs": []
    },
    {
      "cell_type": "code",
      "metadata": {
        "id": "5qI35Nwyg-er"
      },
      "source": [
        " valores_exames_v5 = valores_exames_v3.drop(columns=[\"exame_3\", \"exame_24\"])\r\n",
        "\r\n",
        " classificar(valores_exames_v5)"
      ],
      "execution_count": null,
      "outputs": []
    },
    {
      "cell_type": "markdown",
      "metadata": {
        "id": "X7csDS6Tj7cj"
      },
      "source": [
        "## Correlação != casualidade"
      ]
    },
    {
      "cell_type": "markdown",
      "metadata": {
        "id": "pBIx0OUzkDZs"
      },
      "source": [
        "# Aula 04"
      ]
    },
    {
      "cell_type": "code",
      "metadata": {
        "id": "MwvuUSyzkFmQ"
      },
      "source": [
        ""
      ],
      "execution_count": null,
      "outputs": []
    }
  ]
}