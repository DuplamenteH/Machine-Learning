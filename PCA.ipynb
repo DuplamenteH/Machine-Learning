{
  "nbformat": 4,
  "nbformat_minor": 0,
  "metadata": {
    "colab": {
      "name": "PCA.ipynb",
      "private_outputs": true,
      "provenance": [],
      "collapsed_sections": [],
      "authorship_tag": "ABX9TyMme+8S1Calv/E0JVEMuZjK",
      "include_colab_link": true
    },
    "kernelspec": {
      "name": "python3",
      "display_name": "Python 3"
    }
  },
  "cells": [
    {
      "cell_type": "markdown",
      "metadata": {
        "id": "view-in-github",
        "colab_type": "text"
      },
      "source": [
        "<a href=\"https://colab.research.google.com/github/DuplamenteH/Machine-Learning/blob/master/PCA.ipynb\" target=\"_parent\"><img src=\"https://colab.research.google.com/assets/colab-badge.svg\" alt=\"Open In Colab\"/></a>"
      ]
    },
    {
      "cell_type": "markdown",
      "metadata": {
        "id": "j4hV2bxViVhp"
      },
      "source": [
        "# Aula 1"
      ]
    },
    {
      "cell_type": "markdown",
      "metadata": {
        "id": "fjLh80KrHUZ6"
      },
      "source": [
        "Importações"
      ]
    },
    {
      "cell_type": "code",
      "metadata": {
        "id": "w8QvfcAuHDf-"
      },
      "source": [
        "import pandas as pd\n",
        "url = 'https://raw.githubusercontent.com/alura-cursos/reducao-dimensionalidade/master/data-set/exames.csv'"
      ],
      "execution_count": null,
      "outputs": []
    },
    {
      "cell_type": "code",
      "metadata": {
        "id": "rwCq2U0pHejr"
      },
      "source": [
        "dados = pd.read_csv(url, sep=',')\n",
        "dados.head()"
      ],
      "execution_count": null,
      "outputs": []
    },
    {
      "cell_type": "markdown",
      "metadata": {
        "id": "ROqsFoA1fZ9M"
      },
      "source": [
        "divisão dos dados."
      ]
    },
    {
      "cell_type": "code",
      "metadata": {
        "id": "NDnO-xAdfHcZ"
      },
      "source": [
        "valores_exames = dados.drop(columns=[\"id\", \"diagnostico\"])\n",
        "diagnostico = dados.diagnostico"
      ],
      "execution_count": null,
      "outputs": []
    },
    {
      "cell_type": "code",
      "metadata": {
        "id": "yhJU79LiHqoU"
      },
      "source": [
        "from sklearn.model_selection import train_test_split\n",
        "from numpy import random\n",
        "\n",
        "SEED = 123143\n",
        "random.seed(SEED)\n",
        "\n",
        "treino_x, teste_x, treino_y, teste_y = train_test_split(valores_exames, diagnostico)"
      ],
      "execution_count": null,
      "outputs": []
    },
    {
      "cell_type": "markdown",
      "metadata": {
        "id": "Z9qU5DWngQ7Q"
      },
      "source": [
        "primeiro teste\n",
        "sabemos q vai resultar em um error."
      ]
    },
    {
      "cell_type": "code",
      "metadata": {
        "id": "C2xtq32kfYyE"
      },
      "source": [
        "from sklearn.ensemble import RandomForestClassifier\n",
        "\n",
        "classificador = RandomForestClassifier(n_estimators = 100)\n",
        "classificador.fit(treino_x, treino_y)\n",
        "print(classificador.score(teste_x, teste_y))"
      ],
      "execution_count": null,
      "outputs": []
    },
    {
      "cell_type": "code",
      "metadata": {
        "id": "fgYLIn3ag5jF"
      },
      "source": [
        "dados.isnull().sum()"
      ],
      "execution_count": null,
      "outputs": []
    },
    {
      "cell_type": "code",
      "metadata": {
        "id": "bfOTvSi4h1K4"
      },
      "source": [
        "from sklearn.ensemble import RandomForestClassifier\n",
        "from sklearn.model_selection import train_test_split\n",
        "from numpy import random\n",
        "\n",
        "SEED = 123143\n",
        "random.seed(SEED)\n",
        "\n",
        "valores_exames = dados.drop(columns=[\"id\", \"diagnostico\"])\n",
        "diagnostico = dados.diagnostico\n",
        "valores_exames_v1 = valores_exames.drop(columns=\"exame_33\")\n",
        "\n",
        "treino_x, teste_x, treino_y, teste_y = train_test_split(valores_exames_v1, diagnostico, test_size = 0.3)\n",
        "\n",
        "\n",
        "classificador = RandomForestClassifier(n_estimators = 100)\n",
        "classificador.fit(treino_x, treino_y)\n",
        "print(\"Resultado da classificação %.2f%%\" % (classificador.score(teste_x, teste_y)* 100))"
      ],
      "execution_count": null,
      "outputs": []
    },
    {
      "cell_type": "code",
      "metadata": {
        "id": "21w9GwIgiuL3"
      },
      "source": [
        "from sklearn.dummy import DummyClassifier\n",
        "\n",
        "SEED = 123143\n",
        "random.seed(SEED)\n",
        "\n",
        "classificador_bobo = DummyClassifier(strategy = \"most_frequent\")\n",
        "classificador_bobo.fit(treino_x, treino_y)\n",
        "print(\"Resultado da classificação boba %.2f%%\" % (classificador_bobo.score(teste_x, teste_y)* 100))"
      ],
      "execution_count": null,
      "outputs": []
    },
    {
      "cell_type": "code",
      "metadata": {
        "id": "IOZIKdHxZFo8"
      },
      "source": [
        "dados_plot = pd.concat([diagnostico,valores_exames_v1.iloc[:,0:10]],axis=1)\r\n",
        "dados_plot = pd.melt(dados_plot,id_vars= \"diagnostico\",\r\n",
        "                var_name= \"exames\",\r\n",
        "                value_name= \"valores\"\r\n",
        "                )\r\n",
        "dados_plot.head()"
      ],
      "execution_count": null,
      "outputs": []
    },
    {
      "cell_type": "markdown",
      "metadata": {
        "id": "7Pi0S0U3Srao"
      },
      "source": [
        "#Aula 2"
      ]
    },
    {
      "cell_type": "code",
      "metadata": {
        "id": "XHeVjWmxYxse"
      },
      "source": [
        "import seaborn as sns\r\n",
        "import matplotlib.pyplot as plt\r\n",
        "\r\n",
        "\r\n",
        "plt.figure(figsize=(10,10))\r\n",
        "sns.violinplot(x = \"exames\", y = \"valores\",\r\n",
        "               hue = \"diagnostico\",\r\n",
        "               data= dados_plot)\r\n",
        "plt.xticks(rotation=90)\r\n",
        "plt.show()"
      ],
      "execution_count": null,
      "outputs": []
    },
    {
      "cell_type": "code",
      "metadata": {
        "id": "NyH6wk2Hc3FM"
      },
      "source": [
        "import seaborn as sns\r\n",
        "import matplotlib.pyplot as plt\r\n",
        "from sklearn.preprocessing import StandardScaler"
      ],
      "execution_count": null,
      "outputs": []
    },
    {
      "cell_type": "code",
      "metadata": {
        "id": "UKYvnUUabXvd"
      },
      "source": [
        "std = StandardScaler()\r\n",
        "std.fit(valores_exames_v1)\r\n",
        "valores_exames_v2 = std.transform(valores_exames_v1)\r\n",
        "\r\n",
        "valores_exames_v2 = pd.DataFrame(data= valores_exames_v2,\r\n",
        "                                 columns = valores_exames_v1.keys())\r\n",
        "\r\n",
        "\r\n",
        "\r\n",
        "dados_plot = pd.concat([diagnostico,valores_exames_v2.iloc[:,0:10]],axis=1)\r\n",
        "dados_plot = pd.melt(dados_plot,id_vars= \"diagnostico\",\r\n",
        "                var_name= \"exames\",\r\n",
        "                value_name= \"valores\"\r\n",
        "                )\r\n",
        "\r\n",
        "plt.figure(figsize=(15,15))\r\n",
        "sns.violinplot(x = \"exames\", y = \"valores\",\r\n",
        "               hue = \"diagnostico\",\r\n",
        "               data= dados_plot,\r\n",
        "               split=True)\r\n",
        "plt.xticks(rotation=90)\r\n",
        "plt.show()\r\n",
        "\r\n",
        "\r\n",
        "\r\n",
        "\r\n"
      ],
      "execution_count": null,
      "outputs": []
    },
    {
      "cell_type": "code",
      "metadata": {
        "id": "D5HULem_dglm"
      },
      "source": [
        "def violino_graph(valores, inicio, fim, size):\r\n",
        "    dados_plot = pd.concat([diagnostico,valores.iloc[:,inicio:fim]],axis=1)\r\n",
        "    dados_plot = pd.melt(dados_plot,id_vars= \"diagnostico\",\r\n",
        "                var_name= \"exames\",\r\n",
        "                value_name= \"valores\"\r\n",
        "                )\r\n",
        "\r\n",
        "    plt.figure(figsize=(size,size))\r\n",
        "    sns.violinplot(x = \"exames\", y = \"valores\",\r\n",
        "               hue = \"diagnostico\",\r\n",
        "               data= dados_plot,\r\n",
        "               split=True)\r\n",
        "    plt.xticks(rotation=90)\r\n",
        "    plt.show()"
      ],
      "execution_count": null,
      "outputs": []
    },
    {
      "cell_type": "code",
      "metadata": {
        "id": "zQi6-_R1ZG_G"
      },
      "source": [
        "violino_graph(valores_exames_v2, 0,10, 15)"
      ],
      "execution_count": null,
      "outputs": []
    },
    {
      "cell_type": "code",
      "metadata": {
        "id": "j3B9_ROXXzmA"
      },
      "source": [
        "violino_graph(valores_exames_v2, 10,21, 15)"
      ],
      "execution_count": null,
      "outputs": []
    },
    {
      "cell_type": "code",
      "metadata": {
        "id": "stP5gYX8X5bE"
      },
      "source": [
        "violino_graph(valores_exames_v2, 21,32, 15)"
      ],
      "execution_count": null,
      "outputs": []
    },
    {
      "cell_type": "markdown",
      "metadata": {
        "id": "rrdb-L_NZtK_"
      },
      "source": [
        "Com os gráficos acima podemos identificar diversar variaveis constantes</br>\r\n",
        "e o exame 15 tendo um pico de Benigno e tendo uma postura contante nas variaveis malignas."
      ]
    },
    {
      "cell_type": "code",
      "metadata": {
        "id": "dKqyNsUfazJ9"
      },
      "source": [
        "valores_exames_v3 = valores_exames_v2.drop(columns=['exame_29','exame_4'])\r\n",
        "\r\n",
        "\r\n",
        "def classificar(valores):\r\n",
        "    SEED =1234\r\n",
        "    random.seed(SEED)\r\n",
        "    treino_x, teste_x, treino_y, teste_y = train_test_split(valores, diagnostico, test_size = 0.3)\r\n",
        "    classificador = RandomForestClassifier(n_estimators = 100)\r\n",
        "    classificador.fit(treino_x, treino_y)\r\n",
        "    print(\"Resultado da classificação %.2f%%\" % (classificador.score(teste_x, teste_y)* 100))"
      ],
      "execution_count": null,
      "outputs": []
    },
    {
      "cell_type": "code",
      "metadata": {
        "id": "dU358G1Iba7c"
      },
      "source": [
        "classificar(valores_exames_v3)"
      ],
      "execution_count": null,
      "outputs": []
    },
    {
      "cell_type": "markdown",
      "metadata": {
        "id": "V4S3AGe1cFu9"
      },
      "source": [
        "# Aula 03"
      ]
    },
    {
      "cell_type": "code",
      "metadata": {
        "id": "iZ-L4aekbe29"
      },
      "source": [
        "valores_exames_v3.corr()"
      ],
      "execution_count": null,
      "outputs": []
    },
    {
      "cell_type": "code",
      "metadata": {
        "id": "Kh2HapcZcY--"
      },
      "source": [
        "corr_matrix = valores_exames_v3.corr()\r\n",
        "plt.figure(figsize=(20,15))\r\n",
        "\r\n",
        "sns.heatmap(corr_matrix, annot=True, fmt=\".1f\") # Annot = True -> coloca o valor da correlação nos quadradinhos, fmt casa decimais dos valores."
      ],
      "execution_count": null,
      "outputs": []
    },
    {
      "cell_type": "code",
      "metadata": {
        "id": "QrZiLvJUdX1O"
      },
      "source": [
        "corr_matrix_v1 = corr_matrix[corr_matrix>0.99]\r\n"
      ],
      "execution_count": null,
      "outputs": []
    },
    {
      "cell_type": "code",
      "metadata": {
        "id": "APXkq0j8f2yL"
      },
      "source": [
        "corr_matrix_v2 =  corr_matrix_v1.sum()"
      ],
      "execution_count": null,
      "outputs": []
    },
    {
      "cell_type": "code",
      "metadata": {
        "id": "lfrWszUHf_60"
      },
      "source": [
        "corr_matrix_v2"
      ],
      "execution_count": null,
      "outputs": []
    },
    {
      "cell_type": "code",
      "metadata": {
        "id": "-DePAvF8gFC2"
      },
      "source": [
        "variaveis_cor = corr_matrix_v2[corr_matrix_v2 >1]\r\n",
        "variaveis_cor"
      ],
      "execution_count": null,
      "outputs": []
    },
    {
      "cell_type": "code",
      "metadata": {
        "id": "nY3MWvFZgXLc"
      },
      "source": [
        "valores_exames_v4 = valores_exames_v3.drop(columns=variaveis_cor.keys())"
      ],
      "execution_count": null,
      "outputs": []
    },
    {
      "cell_type": "code",
      "metadata": {
        "id": "o-AkFWNHgxPc"
      },
      "source": [
        "valores_exames_v4.head()"
      ],
      "execution_count": null,
      "outputs": []
    },
    {
      "cell_type": "code",
      "metadata": {
        "id": "vZJYuJcVgy8D"
      },
      "source": [
        "classificar(valores_exames_v4)"
      ],
      "execution_count": null,
      "outputs": []
    },
    {
      "cell_type": "code",
      "metadata": {
        "id": "5qI35Nwyg-er"
      },
      "source": [
        " valores_exames_v5 = valores_exames_v3.drop(columns=[\"exame_3\", \"exame_24\"])\r\n",
        "\r\n",
        " classificar(valores_exames_v5)"
      ],
      "execution_count": null,
      "outputs": []
    },
    {
      "cell_type": "markdown",
      "metadata": {
        "id": "X7csDS6Tj7cj"
      },
      "source": [
        "## Correlação != casualidade"
      ]
    },
    {
      "cell_type": "markdown",
      "metadata": {
        "id": "pBIx0OUzkDZs"
      },
      "source": [
        "# Aula 04"
      ]
    },
    {
      "cell_type": "code",
      "metadata": {
        "id": "MwvuUSyzkFmQ"
      },
      "source": [
        "from sklearn.feature_selection import SelectKBest\r\n",
        "from sklearn.feature_selection import chi2\r\n",
        "\r\n",
        "\r\n",
        "selecionar_kbest = SelectKBest(chi2,k=5)"
      ],
      "execution_count": null,
      "outputs": []
    },
    {
      "cell_type": "code",
      "metadata": {
        "id": "sXr32WBO4vg-"
      },
      "source": [
        "selecionar_kbest"
      ],
      "execution_count": null,
      "outputs": []
    },
    {
      "cell_type": "code",
      "metadata": {
        "id": "F4_XNjnx5YQA"
      },
      "source": [
        "valores_exames_v6=valores_exames_v1.drop(columns=[\"exame_4\",\"exame_29\",\"exame_3\",\"exame_24\"])"
      ],
      "execution_count": null,
      "outputs": []
    },
    {
      "cell_type": "code",
      "metadata": {
        "id": "CMsccrE34w5Q"
      },
      "source": [
        "SEED = 1234\r\n",
        "\r\n",
        "random.seed(SEED)\r\n",
        "\r\n",
        "treino_x, teste_x, treino_y, teste_y = train_test_split(valores_exames_v6, diagnostico, test_size = 0.3)\r\n",
        "\r\n",
        "selecionar_kbest.fit(treino_x, treino_y)\r\n",
        "train_kbest=selecionar_kbest.transform(treino_x)\r\n",
        "test_kbest=selecionar_kbest.transform(teste_x)"
      ],
      "execution_count": null,
      "outputs": []
    },
    {
      "cell_type": "code",
      "metadata": {
        "id": "k2JhvclO6Ozw"
      },
      "source": [
        "test_kbest.shape"
      ],
      "execution_count": null,
      "outputs": []
    },
    {
      "cell_type": "code",
      "metadata": {
        "id": "L68knFvJ6S_m"
      },
      "source": [
        "classificador = RandomForestClassifier(n_estimators=100, random_state=1234)\r\n",
        "classificador.fit(train_kbest,treino_y)\r\n",
        "print(\"Resultado da classificação %.2f%%\" % (classificador.score(test_kbest, teste_y)* 100))"
      ],
      "execution_count": null,
      "outputs": []
    },
    {
      "cell_type": "code",
      "metadata": {
        "id": "jB7J7s7n6xSH"
      },
      "source": [
        "from sklearn.metrics import confusion_matrix\r\n",
        "\r\n",
        "matriz_confusao = confusion_matrix(teste_y, classificador.predict(test_kbest))\r\n",
        "\r\n"
      ],
      "execution_count": null,
      "outputs": []
    },
    {
      "cell_type": "code",
      "metadata": {
        "id": "e92oL2QL8hkZ"
      },
      "source": [
        "matriz_confusao"
      ],
      "execution_count": null,
      "outputs": []
    },
    {
      "cell_type": "code",
      "metadata": {
        "id": "PquBfn1e8jnv"
      },
      "source": [
        "plt.figure(figsize=(10,8))\r\n",
        "\r\n",
        "sns.set(font_scale=2)\r\n",
        "sns.heatmap(matriz_confusao, annot=True, fmt=\"d\").set(xlabel = \"Predição\", ylabel=\"Real\")"
      ],
      "execution_count": null,
      "outputs": []
    },
    {
      "cell_type": "markdown",
      "metadata": {
        "id": "ESeIFIwZAwIB"
      },
      "source": [
        "Seleção com RFE"
      ]
    },
    {
      "cell_type": "code",
      "metadata": {
        "id": "JBIPx776-84J"
      },
      "source": [
        "from sklearn.feature_selection import RFE\r\n",
        "\r\n",
        "SEED = 1234\r\n",
        "random.seed(SEED)\r\n",
        "\r\n",
        "treino_x, teste_x, treino_y, teste_y = train_test_split(valores_exames_v6,\r\n",
        "                                                       diagnostico,\r\n",
        "                                                       test_size = 0.3)\r\n",
        "\r\n",
        "classificador = RandomForestClassifier(n_estimators=100, random_state = 1234)\r\n",
        "classificador.fit(treino_x, treino_y)\r\n",
        "\r\n",
        "\r\n",
        "selecionador_rfe = RFE(estimator = classificador, n_features_to_select = 5, step = 1)\r\n",
        "selecionador_rfe.fit(treino_x, treino_y)\r\n",
        "treino_rfe = selecionador_rfe.transform(treino_x)\r\n",
        "teste_rfe = selecionador_rfe.transform(teste_x)\r\n",
        "classificador.fit(treino_rfe, treino_y)\r\n",
        "\r\n",
        "matriz_confusao = confusion_matrix(teste_y, classificador.predict(teste_rfe))\r\n",
        "plt.figure(figsize = (10, 8))\r\n",
        "sns.set(font_scale = 2)\r\n",
        "sns.heatmap(matriz_confusao, annot = True, fmt = \"d\").set(xlabel = \"Predição\", ylabel = \"Real\")\r\n",
        "\r\n",
        "print(\"Resultado da classificação %.2f%%\" % (classificador.score(teste_rfe, teste_y)* 100))"
      ],
      "execution_count": null,
      "outputs": []
    },
    {
      "cell_type": "code",
      "metadata": {
        "id": "VYEm6iEiAzw3"
      },
      "source": [
        ""
      ],
      "execution_count": null,
      "outputs": []
    },
    {
      "cell_type": "markdown",
      "metadata": {
        "id": "DA62Q43sDQt7"
      },
      "source": [
        "# Aula 05"
      ]
    },
    {
      "cell_type": "code",
      "metadata": {
        "id": "qbiBFB6rDTOl"
      },
      "source": [
        "from sklearn.feature_selection import RFECV\r\n",
        "\r\n",
        "SEED = 1234\r\n",
        "random.seed(SEED)\r\n",
        "\r\n",
        "treino_x, teste_x, treino_y, teste_y = train_test_split(valores_exames_v6,\r\n",
        "                                                       diagnostico,\r\n",
        "                                                       test_size = 0.3)\r\n",
        "\r\n",
        "classificador = RandomForestClassifier(n_estimators=100, random_state = 1234)\r\n",
        "classificador.fit(treino_x, treino_y)\r\n",
        "\r\n",
        "\r\n",
        "selecionador_rfecv = RFECV(estimator = classificador, cv = 5, scoring = \"accuracy\", step = 1)\r\n",
        "selecionador_rfecv.fit(treino_x, treino_y)\r\n",
        "treino_rfecv = selecionador_rfecv.transform(treino_x)\r\n",
        "teste_rfecv = selecionador_rfecv.transform(teste_x)\r\n",
        "classificador.fit(treino_rfecv, treino_y)\r\n",
        "\r\n",
        "matriz_confusao = confusion_matrix(teste_y, classificador.predict(teste_rfecv))\r\n",
        "plt.figure(figsize = (10, 8))\r\n",
        "sns.set(font_scale = 2)\r\n",
        "sns.heatmap(matriz_confusao, annot = True, fmt = \"d\").set(xlabel = \"Predição\", ylabel = \"Real\")\r\n",
        "\r\n",
        "print(\"Resultado da classificação %.2f%%\" % (classificador.score(teste_rfecv, teste_y)* 100))"
      ],
      "execution_count": null,
      "outputs": []
    },
    {
      "cell_type": "code",
      "metadata": {
        "id": "M_UQJN4pZxh5"
      },
      "source": [
        "selecionador_rfecv.n_features_"
      ],
      "execution_count": null,
      "outputs": []
    },
    {
      "cell_type": "code",
      "metadata": {
        "id": "7tpOPVKUaAoe"
      },
      "source": [
        "selecionador_rfecv.support_"
      ],
      "execution_count": null,
      "outputs": []
    },
    {
      "cell_type": "code",
      "metadata": {
        "id": "sXATLTNxaDNw"
      },
      "source": [
        "treino_x.columns[selecionador_rfecv.support_]"
      ],
      "execution_count": null,
      "outputs": []
    },
    {
      "cell_type": "code",
      "metadata": {
        "id": "pVG5d6K6aJN6"
      },
      "source": [
        "import matplotlib.pyplot as plt\r\n",
        "\r\n",
        "plt.figure(figsize=(14,8))\r\n",
        "plt.xlabel(\"Nº de exames\")\r\n",
        "plt.ylabel(\"Acurácia\")\r\n",
        "\r\n",
        "plt.plot(range(1,len(selecionador_rfecv.grid_scores_)+1),selecionador_rfecv.grid_scores_)\r\n",
        "plt.show()"
      ],
      "execution_count": null,
      "outputs": []
    },
    {
      "cell_type": "code",
      "metadata": {
        "id": "rt_63NFWcCUw"
      },
      "source": [
        "from sklearn.feature_selection import RFE\r\n",
        "\r\n",
        "SEED = 1234\r\n",
        "random.seed(SEED)\r\n",
        "\r\n",
        "treino_x, teste_x, treino_y, teste_y = train_test_split(valores_exames_v6,\r\n",
        "                                                       diagnostico,\r\n",
        "                                                       test_size = 0.3)\r\n",
        "\r\n",
        "classificador = RandomForestClassifier(n_estimators=100, random_state = 1234)\r\n",
        "classificador.fit(treino_x, treino_y)\r\n",
        "\r\n",
        "\r\n",
        "selecionador_rfe = RFE(estimator = classificador, n_features_to_select = 2, step = 1)\r\n",
        "selecionador_rfe.fit(treino_x, treino_y)\r\n",
        "treino_rfe = selecionador_rfe.transform(treino_x)\r\n",
        "teste_rfe = selecionador_rfe.transform(teste_x)\r\n",
        "classificador.fit(treino_rfe, treino_y)\r\n",
        "\r\n",
        "matriz_confusao = confusion_matrix(teste_y, classificador.predict(teste_rfe))\r\n",
        "plt.figure(figsize = (10, 8))\r\n",
        "sns.set(font_scale = 2)\r\n",
        "sns.heatmap(matriz_confusao, annot = True, fmt = \"d\").set(xlabel = \"Predição\", ylabel = \"Real\")\r\n",
        "\r\n",
        "print(\"Resultado da classificação %.2f%%\" % (classificador.score(teste_rfe, teste_y)* 100))"
      ],
      "execution_count": null,
      "outputs": []
    },
    {
      "cell_type": "code",
      "metadata": {
        "id": "4O_p9V6qbNHa"
      },
      "source": [
        "dados"
      ],
      "execution_count": null,
      "outputs": []
    },
    {
      "cell_type": "code",
      "metadata": {
        "id": "_debMRuGcUhi"
      },
      "source": [
        "valores_exames_v7 = selecionador_rfe.transform(valores_exames_v6)"
      ],
      "execution_count": null,
      "outputs": []
    },
    {
      "cell_type": "code",
      "metadata": {
        "id": "CxZuuxiScas_"
      },
      "source": [
        "valores_exames_v7.shape"
      ],
      "execution_count": null,
      "outputs": []
    },
    {
      "cell_type": "code",
      "metadata": {
        "id": "CX6iZZpscdKG"
      },
      "source": [
        "import seaborn as sns\r\n",
        "\r\n",
        "plt.figure(figsize=(15,10))\r\n",
        "sns.scatterplot(x =valores_exames_v7[:,0] , y = valores_exames_v7[:,1] , hue= diagnostico)"
      ],
      "execution_count": null,
      "outputs": []
    },
    {
      "cell_type": "code",
      "metadata": {
        "id": "z2bHjHfOc8ev"
      },
      "source": [
        "from sklearn.decomposition import PCA\r\n",
        "\r\n",
        "pca = PCA(n_components = 2)\r\n",
        "\r\n",
        "valores_exames_v8 = pca.fit_transform(valores_exames_v6)"
      ],
      "execution_count": null,
      "outputs": []
    },
    {
      "cell_type": "code",
      "metadata": {
        "id": "82cCjp6MfdxZ"
      },
      "source": [
        "plt.figure(figsize=(20,10))\r\n",
        "sns.scatterplot(x =valores_exames_v8[:,0] , y = valores_exames_v8[:,1] , hue= diagnostico)"
      ],
      "execution_count": null,
      "outputs": []
    },
    {
      "cell_type": "code",
      "metadata": {
        "id": "1lMELp8tfyJ9"
      },
      "source": [
        "from sklearn.manifold import TSNE\r\n",
        "SEED = 1234\r\n",
        "random.seed(SEED)\r\n",
        "tsne = TSNE(n_components = 2, random_state= SEED)\r\n",
        "valores_exames_v9 = tsne.fit_transform(valores_exames_v5)\r\n",
        "plt.figure(figsize=(20,10))\r\n",
        "sns.scatterplot(x =valores_exames_v9[:,0] , y = valores_exames_v9[:,1] , hue= diagnostico)"
      ],
      "execution_count": null,
      "outputs": []
    },
    {
      "cell_type": "markdown",
      "metadata": {
        "id": "7FAvmEEfhmVM"
      },
      "source": [
        "Diferença entre feature selection e redução de dimensionalidade\r\n",
        "na feature selection funciona como um funil que filtra as principais caraterísticas de um base de dados original<br/>\r\n",
        "A redução de dimensionalidade ela irá pegar a base de dados realizar uma tranformação e assim selecionar quais das features irá mantar , para ai sim realizar a redução."
      ]
    },
    {
      "cell_type": "code",
      "metadata": {
        "id": "bn0wwZVYg7LN"
      },
      "source": [
        ""
      ],
      "execution_count": null,
      "outputs": []
    }
  ]
}